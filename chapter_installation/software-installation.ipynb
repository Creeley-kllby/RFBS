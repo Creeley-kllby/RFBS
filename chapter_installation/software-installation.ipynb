{
 "cells": [
  {
   "attachments": {},
   "cell_type": "markdown",
   "metadata": {},
   "source": [
    "# 安装\n",
    "\n",
    "我们需要配置一个环境来运行 R、Jupyter Notebook、相关库以及运行本书所需的代码，以完成R语言的快速入门。"
   ]
  },
  {
   "attachments": {},
   "cell_type": "markdown",
   "metadata": {},
   "source": [
    "# 安装 jupyter\n",
    "\n",
    "最简单的方法就是安装[Miniconda](https://conda.io/en/latest/miniconda.html)。 当然，你也可以选择使用诸如 `Anaconda` 等 conda 的其他发行版。 如果已安装 conda，则可以跳过以下步骤。\n",
    "\n",
    "假设我们使用 Windows 平台，请访问Miniconda网站，选择你喜欢的 Python3.x 版本进行下载安装。 当然，选择旧一些的版本无伤大雅，而这也将避免很多兼容性问题。\n",
    "\n",
    "接下来，以 Powershell 为例，打开终端 Shell，进入 Miniconda 安装路径下的文件夹`bin`，并初始化终端 Shell，以便我们可以直接运行 conda。\n",
    "\n",
    "```shell\n",
    "# 默认安装位置\n",
    "C:\\ProgramData\\miniconda3\\bin> conda init \n",
    "```\n",
    "\n",
    "现在关闭并重新打开 shell，并使用下面的命令创建一个新的环境。\n",
    "```shell\n",
    "conda create --name RFBS\n",
    "```\n",
    "\n",
    "现在激活 RFBS 环境。\n",
    "\n",
    "```shell\n",
    "conda activate RFBS\n",
    "```\n",
    "\n",
    "最后，安装 jupyter 和用于放映幻灯片的 RISE\n",
    "```shell\n",
    "pip install jupyter\n",
    "pip install RISE\n",
    "```"
   ]
  },
  {
   "attachments": {},
   "cell_type": "markdown",
   "metadata": {},
   "source": [
    "# 安装 R\n",
    "\n",
    "为了实现本书在 jupyter 中运行 R 代码的需求，我们选择直接安装 R，并安装 R 包 `IRkernel` 将 R 注册为 jupyter kernel。\n",
    "\n",
    "若未安装 R，请访问 [CRAN Mirrors](https://cran.r-project.org/mirrors.html)，选择一个离你较近的站点，下载安装如图示的 `base`。\n",
    "\n",
    "<img src='./img/R-CRAN.png' align='left' width=600>"
   ]
  },
  {
   "attachments": {},
   "cell_type": "markdown",
   "metadata": {},
   "source": [
    "完成安装后，打开你的终端 shell，进入 R 安装路径下的文件夹`bin`，输入 `R` 以启动 R 命令行。 注意，这一步请确保你的权限足以对 R 文件夹执行写入操作，如以管理员身份运行你的 shell。\n",
    "\n",
    "现在，下载并安装 R 包 `IRkernel`。\n",
    "```R\n",
    "install.packages(\"IRkernel\")\n",
    "```\n",
    "\n",
    "接下来，在 R 中注册激活 R kernel。 请确保你已正确安装 jupyter，否则这一步将失败。\n",
    "```R\n",
    "IRkernel::installspec()\n",
    "```\n",
    "\n",
    "现在，关闭并重新打开 shell，并使用下面的命令验证 R kernel 已被正确激活\n",
    "```shell\n",
    "jupyter kernelspec list\n",
    "```\n",
    "\n",
    "若正确激活 R kernel，将会显示如下：\n",
    "\n",
    "<img src='./img/R-kernel.png' align='left' width=600>"
   ]
  },
  {
   "attachments": {},
   "cell_type": "markdown",
   "metadata": {},
   "source": [
    "# 运行本项目\n",
    "\n",
    "下载本项目代码，并将其解压。 打开你的终端 shell，将当前路径定位到解压后的文件夹，并激活 `RFBS` 环境。\n",
    "\n",
    "接下来，通过以下代码打开 jupyter 笔记本。\n",
    "```shell\n",
    "jupyter notebook\n",
    "```\n",
    "\n",
    "现在可以在Web浏览器中打开http://localhost:8888（通常会自动打开）。 打开其中一个笔记本，将 kernel 更改为 R。 由此，我们可以运行本项目中每个部分的代码。 在运行代码、更新 conda 环境、安装包之前，请始终执行 conda activate RFBS 以激活运行时环境。 要退出环境，请运行 conda deactivate。"
   ]
  }
 ],
 "metadata": {
  "kernelspec": {
   "display_name": "R",
   "language": "R",
   "name": "ir"
  },
  "language_info": {
   "name": "R"
  },
  "orig_nbformat": 4
 },
 "nbformat": 4,
 "nbformat_minor": 2
}
