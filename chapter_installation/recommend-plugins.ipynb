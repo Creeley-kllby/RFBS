{
 "cells": [
  {
   "attachments": {},
   "cell_type": "markdown",
   "metadata": {},
   "source": [
    "# 推荐的插件\n",
    "\n",
    "为了方便我们在 jupyter 中编写并运行代码，我们通常会安装一些插件以提升效率。 下面是一些推荐的插件"
   ]
  },
  {
   "attachments": {},
   "cell_type": "markdown",
   "metadata": {},
   "source": [
    "## nbextension\n",
    "\n",
    "这是一个 jupyter 的拓展，但它一样能通过 pip 或 conda 安装。这里以 `RFBS` 环境演示它的安装。\n",
    "\n",
    "首先，激活 `RFBS` 环境。\n",
    "```shell\n",
    "conda activate RFBS\n",
    "```\n",
    "\n",
    "下载并安装 nbextension。 请注意，除了 nbextension 本体外，我们还需要安装 nbextensions configurator。\n",
    "```shell\n",
    "pip install jupyter_contrib_nbextensions\n",
    "```\n",
    "\n",
    "下面的命令拷贝nbextensions的JavaScript以及CSS文件进入jupyter服务搜索地址并编辑jupyter的配置文件。\n",
    "```shell\n",
    "jupyter contrib nbextension install --user\n",
    "```\n",
    "\n",
    "除了 nbextension 本体外，我们还需要安装 nbextensions configurator。\n",
    "```shell\n",
    "pip install jupyter_nbextensions_configurator\n",
    "```\n",
    "\n",
    "启用 nbextensions configurator\n",
    "```shell\n",
    "jupyter nbextensions_configurator enable --user\n",
    "```\n",
    "\n",
    "接下来，我们需要进入启动 jupyter 来完成一些设置。 启动 jupyter 后，进入新出现的选项卡 Nbextension，并完成如下设置：\n",
    "\n",
    "- 取消勾选 *disable configuration for nbextensions without explicit compatibility*\n",
    "- 勾选 Hinterland\n",
    "\n",
    "<img src='./img/Nbextension.png' align='left' width=800>"
   ]
  }
 ],
 "metadata": {
  "kernelspec": {
   "display_name": "R",
   "language": "R",
   "name": "ir"
  },
  "language_info": {
   "name": "R"
  },
  "orig_nbformat": 4
 },
 "nbformat": 4,
 "nbformat_minor": 2
}
